{
 "cells": [
  {
   "cell_type": "markdown",
   "metadata": {},
   "source": [
    "### Часть 1. Задачи 1-3 "
   ]
  },
  {
   "cell_type": "code",
   "execution_count": 2,
   "metadata": {
    "collapsed": false
   },
   "outputs": [
    {
     "name": "stdout",
     "output_type": "stream",
     "text": [
      "List results: for-test 1.871759711788199 sum-test: 0.5583024967185182 numpy.sum-test: 0.8563000949535002 \n",
      " Numpy results 2.4469925573211952 sum-test: 1.083786340659648 numpy.sum-test 0.012159284497442968\n"
     ]
    }
   ],
   "source": [
    "import numpy\n",
    "import timeit\n",
    "\n",
    "#создаем массивы\n",
    "\n",
    "list1=[1]\n",
    "for x in range(10000000-1):\n",
    "    list1.append(x+2)\n",
    "\n",
    "list1 = list(list1)\n",
    "\n",
    "list2 = numpy.arange(10000000, dtype=numpy.int64)\n",
    "\n",
    "sum1 = 0\n",
    "sum2 = 0\n",
    "\n",
    "# Замеряем время для цикла for\n",
    "\n",
    "start_st1 = timeit.default_timer()\n",
    "for x in list1:\n",
    "    sum1=sum1+x\n",
    "stop_st1 = timeit.default_timer()\n",
    "\n",
    "start_np1 = timeit.default_timer()\n",
    "for x in list2:\n",
    "    sum2 = sum2 + x\n",
    "stop_np1 = timeit.default_timer()\n",
    "\n",
    "# Замеряем время для фукнции sum\n",
    "\n",
    "\n",
    "start_st2 = timeit.default_timer()\n",
    "sum(list1)\n",
    "stop_st2 = timeit.default_timer()\n",
    "\n",
    "start_np2 = timeit.default_timer()\n",
    "sum(list2)\n",
    "stop_np2 = timeit.default_timer()\n",
    "\n",
    "# Замеряем время для фукнции numpy.sum\n",
    "\n",
    "\n",
    "start_st3 = timeit.default_timer()\n",
    "numpy.sum(list1)\n",
    "stop_st3 = timeit.default_timer()\n",
    "\n",
    "start_np3 = timeit.default_timer()\n",
    "numpy.sum(list2)\n",
    "stop_np3 = timeit.default_timer()\n",
    "\n",
    "test_st1 = stop_st1 - start_st1\n",
    "test_np1 = stop_np1 - start_np1\n",
    "\n",
    "test_st2 = stop_st2 - start_st2\n",
    "test_np2 = stop_np2 - start_np2\n",
    "\n",
    "test_st3 = stop_st3 - start_st3\n",
    "test_np3 = stop_np3 - start_np3\n",
    "\n",
    "print('List results: for-test',test_st1, 'sum-test:', test_st2,'numpy.sum-test:' ,test_st3,\n",
    "      '\\n', 'Numpy results',test_np1, 'sum-test:',test_np2,'numpy.sum-test',test_np3)\n",
    "\n",
    "\n"
   ]
  },
  {
   "cell_type": "markdown",
   "metadata": {},
   "source": []
  },
  {
   "cell_type": "code",
   "execution_count": null,
   "metadata": {
    "collapsed": true
   },
   "outputs": [],
   "source": [
    "Такие высокие результаты numpy.sum связаны с оптимизацией процесса вычисления для объектов типа numpy.array. \n",
    "При этоv вычисления по циклу for вообще не учитывают \"природу\" входящих данных и поэтому не используют \"тюрков\" с памятью или\n",
    "битовым суммированием, поэтому его результаты ожидаемо хуже, как для простого списка, так и для массива numpe.array.\n"
   ]
  }
 ],
 "metadata": {
  "kernelspec": {
   "display_name": "Python 3",
   "language": "python",
   "name": "python3"
  },
  "language_info": {
   "codemirror_mode": {
    "name": "ipython",
    "version": 3
   },
   "file_extension": ".py",
   "mimetype": "text/x-python",
   "name": "python",
   "nbconvert_exporter": "python",
   "pygments_lexer": "ipython3",
   "version": "3.5.1"
  }
 },
 "nbformat": 4,
 "nbformat_minor": 0
}
