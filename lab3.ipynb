{
 "cells": [
  {
   "cell_type": "code",
   "execution_count": 70,
   "metadata": {
    "collapsed": false
   },
   "outputs": [],
   "source": [
    "import pandas as pd\n",
    "import sklearn as sk\n",
    "import numpy as np\n",
    "\n",
    "from sklearn import cross_validation as cv\n",
    "from sklearn.tree import DecisionTreeClassifier\n",
    "from sklearn import metrics\n",
    "from sklearn import neighbors\n",
    "from sklearn import preprocessing\n",
    "from sklearn.svm import SVC\n",
    "from sklearn.datasets import load_digits\n",
    "import numpy as np\n",
    "import matplotlib.pyplot as plt\n",
    "from sklearn import cross_validation\n",
    "from sklearn.learning_curve import learning_curve\n",
    "from sklearn import grid_search\n",
    "%matplotlib inline"
   ]
  },
  {
   "cell_type": "markdown",
   "metadata": {},
   "source": [
    "1. Загрузите набор данных Spambase"
   ]
  },
  {
   "cell_type": "code",
   "execution_count": 15,
   "metadata": {
    "collapsed": false
   },
   "outputs": [],
   "source": [
    "set_url = 'http://archive.ics.uci.edu/ml/machine-learning-databases/spambase/spambase.data'\n",
    "names_url = 'http://archive.ics.uci.edu/ml/machine-learning-databases/spambase/spambase.names'\n",
    "\n",
    "df = pd.read_csv(set_url, header=None)"
   ]
  },
  {
   "cell_type": "code",
   "execution_count": 16,
   "metadata": {
    "collapsed": false
   },
   "outputs": [],
   "source": [
    "names = pd.read_csv(names_url,skiprows=30)"
   ]
  },
  {
   "cell_type": "code",
   "execution_count": 17,
   "metadata": {
    "collapsed": false
   },
   "outputs": [],
   "source": [
    "names_col = pd.DataFrame(names['1'][:].str.split(':').tolist(), columns = ['names', 'cut'])\n",
    "names_col = names_col.append(pd.DataFrame([['response','fdsf']], columns = ['names', 'cut']))\n",
    "\n",
    "df.columns = names_col['names']\n"
   ]
  },
  {
   "cell_type": "code",
   "execution_count": 18,
   "metadata": {
    "collapsed": false
   },
   "outputs": [
    {
     "data": {
      "text/html": [
       "<div>\n",
       "<table border=\"1\" class=\"dataframe\">\n",
       "  <thead>\n",
       "    <tr style=\"text-align: right;\">\n",
       "      <th>names</th>\n",
       "      <th>word_freq_make</th>\n",
       "      <th>word_freq_address</th>\n",
       "      <th>word_freq_all</th>\n",
       "      <th>word_freq_3d</th>\n",
       "      <th>word_freq_our</th>\n",
       "      <th>word_freq_over</th>\n",
       "      <th>word_freq_remove</th>\n",
       "      <th>word_freq_internet</th>\n",
       "      <th>word_freq_order</th>\n",
       "      <th>word_freq_mail</th>\n",
       "      <th>...</th>\n",
       "      <th>char_freq_;</th>\n",
       "      <th>char_freq_(</th>\n",
       "      <th>char_freq_[</th>\n",
       "      <th>char_freq_!</th>\n",
       "      <th>char_freq_$</th>\n",
       "      <th>char_freq_#</th>\n",
       "      <th>capital_run_length_average</th>\n",
       "      <th>capital_run_length_longest</th>\n",
       "      <th>capital_run_length_total</th>\n",
       "      <th>response</th>\n",
       "    </tr>\n",
       "  </thead>\n",
       "  <tbody>\n",
       "    <tr>\n",
       "      <th>0</th>\n",
       "      <td>0.00</td>\n",
       "      <td>0.64</td>\n",
       "      <td>0.64</td>\n",
       "      <td>0.0</td>\n",
       "      <td>0.32</td>\n",
       "      <td>0.00</td>\n",
       "      <td>0.00</td>\n",
       "      <td>0.00</td>\n",
       "      <td>0.00</td>\n",
       "      <td>0.00</td>\n",
       "      <td>...</td>\n",
       "      <td>0.00</td>\n",
       "      <td>0.000</td>\n",
       "      <td>0.0</td>\n",
       "      <td>0.778</td>\n",
       "      <td>0.000</td>\n",
       "      <td>0.000</td>\n",
       "      <td>3.756</td>\n",
       "      <td>61</td>\n",
       "      <td>278</td>\n",
       "      <td>1</td>\n",
       "    </tr>\n",
       "    <tr>\n",
       "      <th>1</th>\n",
       "      <td>0.21</td>\n",
       "      <td>0.28</td>\n",
       "      <td>0.50</td>\n",
       "      <td>0.0</td>\n",
       "      <td>0.14</td>\n",
       "      <td>0.28</td>\n",
       "      <td>0.21</td>\n",
       "      <td>0.07</td>\n",
       "      <td>0.00</td>\n",
       "      <td>0.94</td>\n",
       "      <td>...</td>\n",
       "      <td>0.00</td>\n",
       "      <td>0.132</td>\n",
       "      <td>0.0</td>\n",
       "      <td>0.372</td>\n",
       "      <td>0.180</td>\n",
       "      <td>0.048</td>\n",
       "      <td>5.114</td>\n",
       "      <td>101</td>\n",
       "      <td>1028</td>\n",
       "      <td>1</td>\n",
       "    </tr>\n",
       "    <tr>\n",
       "      <th>2</th>\n",
       "      <td>0.06</td>\n",
       "      <td>0.00</td>\n",
       "      <td>0.71</td>\n",
       "      <td>0.0</td>\n",
       "      <td>1.23</td>\n",
       "      <td>0.19</td>\n",
       "      <td>0.19</td>\n",
       "      <td>0.12</td>\n",
       "      <td>0.64</td>\n",
       "      <td>0.25</td>\n",
       "      <td>...</td>\n",
       "      <td>0.01</td>\n",
       "      <td>0.143</td>\n",
       "      <td>0.0</td>\n",
       "      <td>0.276</td>\n",
       "      <td>0.184</td>\n",
       "      <td>0.010</td>\n",
       "      <td>9.821</td>\n",
       "      <td>485</td>\n",
       "      <td>2259</td>\n",
       "      <td>1</td>\n",
       "    </tr>\n",
       "    <tr>\n",
       "      <th>3</th>\n",
       "      <td>0.00</td>\n",
       "      <td>0.00</td>\n",
       "      <td>0.00</td>\n",
       "      <td>0.0</td>\n",
       "      <td>0.63</td>\n",
       "      <td>0.00</td>\n",
       "      <td>0.31</td>\n",
       "      <td>0.63</td>\n",
       "      <td>0.31</td>\n",
       "      <td>0.63</td>\n",
       "      <td>...</td>\n",
       "      <td>0.00</td>\n",
       "      <td>0.137</td>\n",
       "      <td>0.0</td>\n",
       "      <td>0.137</td>\n",
       "      <td>0.000</td>\n",
       "      <td>0.000</td>\n",
       "      <td>3.537</td>\n",
       "      <td>40</td>\n",
       "      <td>191</td>\n",
       "      <td>1</td>\n",
       "    </tr>\n",
       "    <tr>\n",
       "      <th>4</th>\n",
       "      <td>0.00</td>\n",
       "      <td>0.00</td>\n",
       "      <td>0.00</td>\n",
       "      <td>0.0</td>\n",
       "      <td>0.63</td>\n",
       "      <td>0.00</td>\n",
       "      <td>0.31</td>\n",
       "      <td>0.63</td>\n",
       "      <td>0.31</td>\n",
       "      <td>0.63</td>\n",
       "      <td>...</td>\n",
       "      <td>0.00</td>\n",
       "      <td>0.135</td>\n",
       "      <td>0.0</td>\n",
       "      <td>0.135</td>\n",
       "      <td>0.000</td>\n",
       "      <td>0.000</td>\n",
       "      <td>3.537</td>\n",
       "      <td>40</td>\n",
       "      <td>191</td>\n",
       "      <td>1</td>\n",
       "    </tr>\n",
       "  </tbody>\n",
       "</table>\n",
       "<p>5 rows × 58 columns</p>\n",
       "</div>"
      ],
      "text/plain": [
       "names  word_freq_make  word_freq_address  word_freq_all  word_freq_3d  \\\n",
       "0                0.00               0.64           0.64           0.0   \n",
       "1                0.21               0.28           0.50           0.0   \n",
       "2                0.06               0.00           0.71           0.0   \n",
       "3                0.00               0.00           0.00           0.0   \n",
       "4                0.00               0.00           0.00           0.0   \n",
       "\n",
       "names  word_freq_our  word_freq_over  word_freq_remove  word_freq_internet  \\\n",
       "0               0.32            0.00              0.00                0.00   \n",
       "1               0.14            0.28              0.21                0.07   \n",
       "2               1.23            0.19              0.19                0.12   \n",
       "3               0.63            0.00              0.31                0.63   \n",
       "4               0.63            0.00              0.31                0.63   \n",
       "\n",
       "names  word_freq_order  word_freq_mail    ...     char_freq_;  char_freq_(  \\\n",
       "0                 0.00            0.00    ...            0.00        0.000   \n",
       "1                 0.00            0.94    ...            0.00        0.132   \n",
       "2                 0.64            0.25    ...            0.01        0.143   \n",
       "3                 0.31            0.63    ...            0.00        0.137   \n",
       "4                 0.31            0.63    ...            0.00        0.135   \n",
       "\n",
       "names  char_freq_[  char_freq_!  char_freq_$  char_freq_#  \\\n",
       "0              0.0        0.778        0.000        0.000   \n",
       "1              0.0        0.372        0.180        0.048   \n",
       "2              0.0        0.276        0.184        0.010   \n",
       "3              0.0        0.137        0.000        0.000   \n",
       "4              0.0        0.135        0.000        0.000   \n",
       "\n",
       "names  capital_run_length_average  capital_run_length_longest  \\\n",
       "0                           3.756                          61   \n",
       "1                           5.114                         101   \n",
       "2                           9.821                         485   \n",
       "3                           3.537                          40   \n",
       "4                           3.537                          40   \n",
       "\n",
       "names  capital_run_length_total  response  \n",
       "0                           278         1  \n",
       "1                          1028         1  \n",
       "2                          2259         1  \n",
       "3                           191         1  \n",
       "4                           191         1  \n",
       "\n",
       "[5 rows x 58 columns]"
      ]
     },
     "execution_count": 18,
     "metadata": {},
     "output_type": "execute_result"
    }
   ],
   "source": [
    "df.head(5)"
   ]
  },
  {
   "cell_type": "code",
   "execution_count": 22,
   "metadata": {
    "collapsed": false
   },
   "outputs": [
    {
     "data": {
      "text/plain": [
       "numpy.ndarray"
      ]
     },
     "execution_count": 22,
     "metadata": {},
     "output_type": "execute_result"
    }
   ],
   "source": [
    "Y = df['response']\n",
    "X = df.ix[:,0:df.shape[1]-1]\n",
    "Y = Y.values\n",
    "X = X.values\n",
    "type(X)"
   ]
  },
  {
   "cell_type": "markdown",
   "metadata": {},
   "source": [
    "2. Оветьте на следующие воросы:\n",
    "Сколько примеров писем в датасете?\n",
    "Какова доля спама?\n",
    "Какие характерные группы признаков представлены в наборе? Выведите список признаков, внимательно посмотрите на их названия."
   ]
  },
  {
   "cell_type": "code",
   "execution_count": 10,
   "metadata": {
    "collapsed": false
   },
   "outputs": [
    {
     "data": {
      "text/plain": [
       "(4601, 58)"
      ]
     },
     "execution_count": 10,
     "metadata": {},
     "output_type": "execute_result"
    }
   ],
   "source": [
    "df.shape"
   ]
  },
  {
   "cell_type": "markdown",
   "metadata": {},
   "source": [
    "В сете 4601 письмо"
   ]
  },
  {
   "cell_type": "code",
   "execution_count": 23,
   "metadata": {
    "collapsed": false
   },
   "outputs": [
    {
     "data": {
      "text/plain": [
       "0.39404477287546186"
      ]
     },
     "execution_count": 23,
     "metadata": {},
     "output_type": "execute_result"
    }
   ],
   "source": [
    "sum(df['response'])/df.shape[0]"
   ]
  },
  {
   "cell_type": "markdown",
   "metadata": {},
   "source": [
    "respone = 1 отмечает спам письма, значит в этом сете 39% спама"
   ]
  },
  {
   "cell_type": "markdown",
   "metadata": {},
   "source": [
    "В сете 6 групп признаков:\n",
    "    1. 48 признаков показывают частоту повторения слова в письме. Показывает процент от общего числа слов. Словом в сете считает любую буквено-циферную строку ограниченне не буквенно-циферными символами или концом строки.\n",
    "    2. 6 признаков показывают частоту повторения символов в письме. Показывает процент от общего числа символов\n",
    "    3. 1 признак показывает средний размер серий последовательных заглавных букв\n",
    "    4. 1 признак показывает размер самой длинной серии последовательных заглавных букв\n",
    "    5. 1 признак показывает общее число заглавных букв в письме.\n",
    "    6. 1 признак показывает, является ли письмо спамом, если = 1, то является спамом."
   ]
  },
  {
   "cell_type": "markdown",
   "metadata": {},
   "source": [
    "3. Подготовьте два разбиения исходного набора данных на тестовую (test) и обучающую (train) выборки:\n",
    "*Первые 3000 писем отдайте на обучение, а оставшиеся на тест.\n",
    "*Воспользуйтесь необходимой функцией sklearn и сделайте случайноее разбиение в тех же пропорциях."
   ]
  },
  {
   "cell_type": "code",
   "execution_count": 25,
   "metadata": {
    "collapsed": false
   },
   "outputs": [],
   "source": [
    "train_vol = 3000\n",
    "Xtrain_w = X[0 : train_vol, ]\n",
    "Ytrain_w = Y[0 : train_vol, ]\n",
    "\n",
    "Xtest_w  = X[train_vol : df.shape[0],]\n",
    "Ytest_w  = Y[train_vol : df.shape[0],]"
   ]
  },
  {
   "cell_type": "code",
   "execution_count": 26,
   "metadata": {
    "collapsed": false
   },
   "outputs": [],
   "source": [
    "Xtrain, Xtest, Ytrain, Ytest = sk.cross_validation.train_test_split(X,Y, train_size = train_vol)"
   ]
  },
  {
   "cell_type": "markdown",
   "metadata": {},
   "source": [
    "4. Для первого из разбиений обучите алгоритм sklearn.tree.DecisionTreeClassifier на обучающей выборке. Смотрите приложение #2"
   ]
  },
  {
   "cell_type": "code",
   "execution_count": 27,
   "metadata": {
    "collapsed": false
   },
   "outputs": [],
   "source": [
    "clf = DecisionTreeClassifier()\n",
    "clf.fit(Xtrain_w, Ytrain_w)\n",
    "\n",
    "Ypred_test_w = clf.predict(Xtest_w)"
   ]
  },
  {
   "cell_type": "markdown",
   "metadata": {},
   "source": [
    "5. Замерьте метрики качества recall, precision, f1, accuracy на тестовой выборке из первого разбиения. Используйте соответствующие функции sklearn"
   ]
  },
  {
   "cell_type": "code",
   "execution_count": 28,
   "metadata": {
    "collapsed": false
   },
   "outputs": [
    {
     "name": "stderr",
     "output_type": "stream",
     "text": [
      "C:\\Anaconda3\\lib\\site-packages\\sklearn\\metrics\\classification.py:1076: UndefinedMetricWarning: Recall is ill-defined and being set to 0.0 due to no true samples.\n",
      "  'recall', 'true', average, warn_for)\n"
     ]
    },
    {
     "data": {
      "text/plain": [
       "0.0"
      ]
     },
     "execution_count": 28,
     "metadata": {},
     "output_type": "execute_result"
    }
   ],
   "source": [
    "#recall\n",
    "metrics.recall_score(Ytest_w, Ypred_test_w)"
   ]
  },
  {
   "cell_type": "code",
   "execution_count": 29,
   "metadata": {
    "collapsed": false
   },
   "outputs": [
    {
     "data": {
      "text/plain": [
       "0.0"
      ]
     },
     "execution_count": 29,
     "metadata": {},
     "output_type": "execute_result"
    }
   ],
   "source": [
    "#precision\n",
    "metrics.precision_score(Ytest_w, Ypred_test_w)"
   ]
  },
  {
   "cell_type": "code",
   "execution_count": 30,
   "metadata": {
    "collapsed": false
   },
   "outputs": [
    {
     "name": "stderr",
     "output_type": "stream",
     "text": [
      "C:\\Anaconda3\\lib\\site-packages\\sklearn\\metrics\\classification.py:1076: UndefinedMetricWarning: F-score is ill-defined and being set to 0.0 due to no true samples.\n",
      "  'recall', 'true', average, warn_for)\n"
     ]
    },
    {
     "data": {
      "text/plain": [
       "0.0"
      ]
     },
     "execution_count": 30,
     "metadata": {},
     "output_type": "execute_result"
    }
   ],
   "source": [
    "#f1\n",
    "metrics.f1_score(Ytest_w, Ypred_test_w)"
   ]
  },
  {
   "cell_type": "code",
   "execution_count": 31,
   "metadata": {
    "collapsed": false
   },
   "outputs": [
    {
     "data": {
      "text/plain": [
       "0.79013116801998751"
      ]
     },
     "execution_count": 31,
     "metadata": {},
     "output_type": "execute_result"
    }
   ],
   "source": [
    "#accuracy\n",
    "metrics.accuracy_score(Ytest_w, Ypred_test_w)"
   ]
  },
  {
   "cell_type": "markdown",
   "metadata": {
    "collapsed": true
   },
   "source": [
    "6. Повторите пункты 4. и 5. для второго разбиения."
   ]
  },
  {
   "cell_type": "code",
   "execution_count": 33,
   "metadata": {
    "collapsed": true
   },
   "outputs": [],
   "source": [
    "clf2 = DecisionTreeClassifier()\n",
    "clf2.fit(Xtrain, Ytrain)\n",
    "\n",
    "Ypred_test_clf2 = clf2.predict(Xtest)"
   ]
  },
  {
   "cell_type": "code",
   "execution_count": 35,
   "metadata": {
    "collapsed": false
   },
   "outputs": [
    {
     "data": {
      "text/plain": [
       "0.89409984871406956"
      ]
     },
     "execution_count": 35,
     "metadata": {},
     "output_type": "execute_result"
    }
   ],
   "source": [
    "#recall\n",
    "metrics.recall_score(Ytest, Ypred_test_clf2)"
   ]
  },
  {
   "cell_type": "code",
   "execution_count": 36,
   "metadata": {
    "collapsed": false
   },
   "outputs": [
    {
     "data": {
      "text/plain": [
       "0.87296898079763663"
      ]
     },
     "execution_count": 36,
     "metadata": {},
     "output_type": "execute_result"
    }
   ],
   "source": [
    "#precision\n",
    "metrics.precision_score(Ytest, Ypred_test_clf2)"
   ]
  },
  {
   "cell_type": "code",
   "execution_count": 37,
   "metadata": {
    "collapsed": false
   },
   "outputs": [
    {
     "data": {
      "text/plain": [
       "0.88340807174887903"
      ]
     },
     "execution_count": 37,
     "metadata": {},
     "output_type": "execute_result"
    }
   ],
   "source": [
    "#f1\n",
    "metrics.f1_score(Ytest, Ypred_test_clf2)"
   ]
  },
  {
   "cell_type": "code",
   "execution_count": 38,
   "metadata": {
    "collapsed": false
   },
   "outputs": [
    {
     "data": {
      "text/plain": [
       "0.90256089943785134"
      ]
     },
     "execution_count": 38,
     "metadata": {},
     "output_type": "execute_result"
    }
   ],
   "source": [
    "#accuracy\n",
    "metrics.accuracy_score(Ytest, Ypred_test_clf2)"
   ]
  },
  {
   "cell_type": "markdown",
   "metadata": {},
   "source": [
    "7. Объясните разницу в результатах. Далее используйте только второе (случайное) разбиение.\n",
    "\n",
    "В тестовой выборке в первом случае нет вообще ни одного спам письма, поэтому метрики recall =0 (true positive в выборке нет), precision нельзя посчитать (т.к. сумма true positive + true negative =0) и т.п.  "
   ]
  },
  {
   "cell_type": "markdown",
   "metadata": {},
   "source": [
    "8. Для модели, обученной на случайном разбиении, выведите оценку информативности признаков (feature importance)."
   ]
  },
  {
   "cell_type": "code",
   "execution_count": 77,
   "metadata": {
    "collapsed": false
   },
   "outputs": [
    {
     "name": "stdout",
     "output_type": "stream",
     "text": [
      "52 word_freq_over, importance = 0.32784010819795983\n",
      "6 char_freq_!, importance = 0.15244440824332217\n",
      "51 word_freq_remove, importance = 0.09923144625810192\n",
      "24 word_freq_415, importance = 0.054804032101869536\n",
      "56 word_freq_address, importance = 0.044463673365919956\n",
      "15 word_freq_original, importance = 0.028262943116484734\n",
      "54 word_freq_3d, importance = 0.026521123887371194\n",
      "4 char_freq_#, importance = 0.02406697939832167\n",
      "45 word_freq_people, importance = 0.019153344380018575\n",
      "26 word_freq_857, importance = 0.01907625949056859\n",
      "18 word_freq_direct, importance = 0.01782508007450804\n",
      "55 word_freq_all, importance = 0.01719408250645311\n",
      "23 word_freq_85, importance = 0.01439987319049505\n",
      "20 word_freq_parts, importance = 0.013710856887213551\n",
      "35 word_freq_000, importance = 0.011478742454220732\n",
      "44 word_freq_report, importance = 0.011311672962818306\n",
      "16 word_freq_meeting, importance = 0.010617235318460856\n",
      "10 word_freq_conference, importance = 0.009116261068559619\n",
      "49 word_freq_order, importance = 0.00839642474178194\n",
      "11 word_freq_table, importance = 0.008182165996132253\n",
      "41 word_freq_business, importance = 0.007650916484549535\n",
      "17 word_freq_cs, importance = 0.007373196706451162\n",
      "48 word_freq_mail, importance = 0.007280953246539466\n",
      "12 word_freq_edu, importance = 0.005702372871599517\n",
      "9 char_freq_;, importance = 0.005479616398199981\n",
      "7 char_freq_[, importance = 0.004904573568397548\n",
      "5 char_freq_$, importance = 0.004170169485185506\n",
      "2 capital_run_length_longest, importance = 0.003659303213062154\n",
      "21 word_freq_1999, importance = 0.0036319826501395305\n",
      "1 capital_run_length_total, importance = 0.00339723903178944\n",
      "25 word_freq_data, importance = 0.0028539649826680572\n",
      "37 word_freq_your, importance = 0.002625059491886762\n",
      "3 capital_run_length_average, importance = 0.0026100241619611596\n",
      "40 word_freq_email, importance = 0.0025743586149654636\n",
      "0 response, importance = 0.0024278399313176066\n",
      "22 word_freq_technology, importance = 0.0022937402595215885\n",
      "27 word_freq_telnet, importance = 0.0022422583687586157\n",
      "13 word_freq_re, importance = 0.0020622258516559727\n",
      "28 word_freq_labs, importance = 0.0013458584001282139\n",
      "30 word_freq_650, importance = 0.0013415858337785908\n",
      "47 word_freq_receive, importance = 0.0013373335807397347\n",
      "8 char_freq_(, importance = 0.0013182059112458076\n",
      "42 word_freq_free, importance = 0.0008807003589696485\n",
      "36 word_freq_font, importance = 0.0007744336105273265\n",
      "50 word_freq_internet, importance = 0.0007050873462204497\n",
      "29 word_freq_lab, importance = 0.0006339764474482055\n",
      "19 word_freq_pm, importance = 0.0006263095517111698\n",
      "14 word_freq_project, importance = 0.0\n",
      "33 word_freq_hp, importance = 0.0\n",
      "34 word_freq_money, importance = 0.0\n",
      "38 word_freq_credit, importance = 0.0\n",
      "31 word_freq_george, importance = 0.0\n",
      "39 word_freq_you, importance = 0.0\n",
      "43 word_freq_addresses, importance = 0.0\n",
      "46 word_freq_will, importance = 0.0\n",
      "32 word_freq_hpl, importance = 0.0\n",
      "53 word_freq_our, importance = 0.0\n"
     ]
    }
   ],
   "source": [
    "most_important_features = clf2.feature_importances_\n",
    "most_important_features_index = np.argsort(most_important_features)[::-1]\n",
    "\n",
    "feature_names = df.columns[::-1]\n",
    "\n",
    "for idx in most_important_features_index:\n",
    "    print ('{} {}, importance = {}'.format(idx, feature_names[idx], most_important_features[idx]))"
   ]
  },
  {
   "cell_type": "markdown",
   "metadata": {},
   "source": [
    "9. *Объясните способ, которым Решающее Дерево способно дать такую оценку."
   ]
  },
  {
   "cell_type": "markdown",
   "metadata": {},
   "source": [
    "10. Обучите модель sklearn.neighbors.KNeighborsClassifier на обучающей выборке и произведите оценку качества модели на тестовой выборке."
   ]
  },
  {
   "cell_type": "code",
   "execution_count": 78,
   "metadata": {
    "collapsed": false
   },
   "outputs": [],
   "source": [
    "knn = neighbors.KNeighborsClassifier()\n",
    "knn.fit(Xtrain, Ytrain)\n",
    "\n",
    "\n",
    "knn_pred = knn.predict(Xtest)"
   ]
  },
  {
   "cell_type": "code",
   "execution_count": 47,
   "metadata": {
    "collapsed": false
   },
   "outputs": [
    {
     "data": {
      "text/plain": [
       "0.68986384266263234"
      ]
     },
     "execution_count": 47,
     "metadata": {},
     "output_type": "execute_result"
    }
   ],
   "source": [
    "#recall\n",
    "metrics.recall_score(Ytest, knn_pred)"
   ]
  },
  {
   "cell_type": "code",
   "execution_count": 48,
   "metadata": {
    "collapsed": false
   },
   "outputs": [
    {
     "data": {
      "text/plain": [
       "0.77157360406091369"
      ]
     },
     "execution_count": 48,
     "metadata": {},
     "output_type": "execute_result"
    }
   ],
   "source": [
    "#precision\n",
    "metrics.precision_score(Ytest, knn_pred)"
   ]
  },
  {
   "cell_type": "code",
   "execution_count": 49,
   "metadata": {
    "collapsed": false
   },
   "outputs": [
    {
     "data": {
      "text/plain": [
       "0.72843450479233229"
      ]
     },
     "execution_count": 49,
     "metadata": {},
     "output_type": "execute_result"
    }
   ],
   "source": [
    "#f1\n",
    "metrics.f1_score(Ytest, knn_pred)"
   ]
  },
  {
   "cell_type": "code",
   "execution_count": 50,
   "metadata": {
    "collapsed": false
   },
   "outputs": [
    {
     "data": {
      "text/plain": [
       "0.78763272954403496"
      ]
     },
     "execution_count": 50,
     "metadata": {},
     "output_type": "execute_result"
    }
   ],
   "source": [
    "#accuracy\n",
    "metrics.accuracy_score(Ytest, knn_pred)"
   ]
  },
  {
   "cell_type": "markdown",
   "metadata": {},
   "source": [
    "12. Какая из обученных моделей лучше?\n",
    "Модель дерева лучше по всем метрикам качества."
   ]
  },
  {
   "cell_type": "markdown",
   "metadata": {
    "collapsed": true
   },
   "source": [
    "13 .Способен ли KNN оценить информативность признаков?"
   ]
  },
  {
   "cell_type": "markdown",
   "metadata": {
    "collapsed": true
   },
   "source": [
    "14. Произведите нормировку обучающей и тестовой выборок. *sklearn имеет необходимый функционал, не надо делать это самостоятельно*"
   ]
  },
  {
   "cell_type": "code",
   "execution_count": 51,
   "metadata": {
    "collapsed": false
   },
   "outputs": [],
   "source": [
    "Xtrain_norm = preprocessing.normalize(Xtrain)\n",
    "\n",
    "knn2 = neighbors.KNeighborsClassifier()\n",
    "knn2.fit(Xtrain_norm, Ytrain)\n",
    "\n",
    "knn2_pred = knn2.predict(Xtest)"
   ]
  },
  {
   "cell_type": "code",
   "execution_count": 52,
   "metadata": {
    "collapsed": false
   },
   "outputs": [
    {
     "data": {
      "text/plain": [
       "0.86232980332829046"
      ]
     },
     "execution_count": 52,
     "metadata": {},
     "output_type": "execute_result"
    }
   ],
   "source": [
    "#recall\n",
    "metrics.recall_score(Ytest, knn2_pred)"
   ]
  },
  {
   "cell_type": "code",
   "execution_count": 53,
   "metadata": {
    "collapsed": false
   },
   "outputs": [
    {
     "data": {
      "text/plain": [
       "0.7421875"
      ]
     },
     "execution_count": 53,
     "metadata": {},
     "output_type": "execute_result"
    }
   ],
   "source": [
    "#precision\n",
    "metrics.precision_score(Ytest, knn2_pred)"
   ]
  },
  {
   "cell_type": "code",
   "execution_count": 54,
   "metadata": {
    "collapsed": false
   },
   "outputs": [
    {
     "data": {
      "text/plain": [
       "0.79776067179846044"
      ]
     },
     "execution_count": 54,
     "metadata": {},
     "output_type": "execute_result"
    }
   ],
   "source": [
    "#f1\n",
    "metrics.f1_score(Ytest, knn2_pred)"
   ]
  },
  {
   "cell_type": "code",
   "execution_count": 55,
   "metadata": {
    "collapsed": false
   },
   "outputs": [
    {
     "data": {
      "text/plain": [
       "0.81948782011242971"
      ]
     },
     "execution_count": 55,
     "metadata": {},
     "output_type": "execute_result"
    }
   ],
   "source": [
    "#accuracy\n",
    "metrics.accuracy_score(Ytest, knn2_pred)"
   ]
  },
  {
   "cell_type": "markdown",
   "metadata": {},
   "source": [
    "16. Объясните разницу в результатах. KNN использует для определения отнесения письма к классу \"многомерное\" евклидово расстояние, которое зависит от масштаба величин. Нормировка уравнивает машстаб всех предикторов, что позволяет лучше классифицировать письма."
   ]
  },
  {
   "cell_type": "markdown",
   "metadata": {},
   "source": [
    "17. Повторите эксперимент с Решающим Деревом на нормированных данных."
   ]
  },
  {
   "cell_type": "code",
   "execution_count": 56,
   "metadata": {
    "collapsed": true
   },
   "outputs": [],
   "source": [
    "clf_norm = DecisionTreeClassifier()\n",
    "clf_norm.fit(Xtrain, Ytrain)\n",
    "\n",
    "Ypred_norm = clf_norm.predict(Xtest)"
   ]
  },
  {
   "cell_type": "code",
   "execution_count": 57,
   "metadata": {
    "collapsed": false
   },
   "outputs": [
    {
     "data": {
      "text/plain": [
       "0.89561270801815429"
      ]
     },
     "execution_count": 57,
     "metadata": {},
     "output_type": "execute_result"
    }
   ],
   "source": [
    "#recall\n",
    "metrics.recall_score(Ytest, Ypred_norm)"
   ]
  },
  {
   "cell_type": "code",
   "execution_count": 58,
   "metadata": {
    "collapsed": false
   },
   "outputs": [
    {
     "data": {
      "text/plain": [
       "0.7421875"
      ]
     },
     "execution_count": 58,
     "metadata": {},
     "output_type": "execute_result"
    }
   ],
   "source": [
    "#precision\n",
    "metrics.precision_score(Ytest, knn2_pred)"
   ]
  },
  {
   "cell_type": "code",
   "execution_count": 59,
   "metadata": {
    "collapsed": false
   },
   "outputs": [
    {
     "data": {
      "text/plain": [
       "0.79776067179846044"
      ]
     },
     "execution_count": 59,
     "metadata": {},
     "output_type": "execute_result"
    }
   ],
   "source": [
    "#f1\n",
    "metrics.f1_score(Ytest, knn2_pred)"
   ]
  },
  {
   "cell_type": "code",
   "execution_count": null,
   "metadata": {
    "collapsed": false
   },
   "outputs": [],
   "source": [
    "#accuracy\n",
    "metrics.accuracy_score(Ytest, knn2_pred)"
   ]
  },
  {
   "cell_type": "markdown",
   "metadata": {},
   "source": [
    "18. Сравните результаты с теми, которые получены на ненормированных данных. Объясните подобное поведение."
   ]
  },
  {
   "cell_type": "markdown",
   "metadata": {},
   "source": [
    "19. Пропорции разбиения на данный момент выбраны безосновательно. Найдите оптимальные пропорции разбиения на train и test. Для этого необходимо перебрать значения пропорции разбиения по сетке, для каждого значения сгенерировать большое число разбиений и на каждом посчитать ошибку (с точки зрения выбранной метрики, например, f1), далее строится график зависимости разброса величины ошибки от пропорции разбиения, пропорция разбиения выбирается из области наименьшего разброса ошибки. Выберите метрику и постройте график зависимости стандартного отклонения ошибки от пропорции разбиения."
   ]
  },
  {
   "cell_type": "code",
   "execution_count": 68,
   "metadata": {
    "collapsed": false
   },
   "outputs": [],
   "source": [
    "\n",
    "#Xtrain, Xtest, Ytrain, Ytest = sk.cross_validation.train_test_split(X,Y, train_size = train_vol)\n",
    "boot = range(100,4600,250)\n",
    "\n",
    "\n",
    "nboot = range(200)\n",
    "acc = list(nboot)\n",
    "acc_table = pd.DataFrame()\n",
    "\n",
    "clf3 = DecisionTreeClassifier()\n",
    "\n",
    "for i in range(len(boot)):\n",
    "    for j in nboot:\n",
    "        Xbtrain, Xbtest, Ybtrain, Ybtest = sk.cross_validation.train_test_split(X,Y, train_size = boot[i])\n",
    "        clf3.fit(Xbtrain, Ybtrain)\n",
    "        Ybpred_test = clf3.predict(Xbtest)\n",
    "        acc[j] = metrics.accuracy_score(Ybtest,Ybpred_test) \n",
    "    acc_table [i] = pd.Series(acc)\n",
    "\n"
   ]
  },
  {
   "cell_type": "code",
   "execution_count": 71,
   "metadata": {
    "collapsed": false
   },
   "outputs": [
    {
     "data": {
      "text/html": [
       "<div>\n",
       "<table border=\"1\" class=\"dataframe\">\n",
       "  <thead>\n",
       "    <tr style=\"text-align: right;\">\n",
       "      <th></th>\n",
       "      <th>100</th>\n",
       "      <th>350</th>\n",
       "      <th>600</th>\n",
       "      <th>850</th>\n",
       "      <th>1100</th>\n",
       "      <th>1350</th>\n",
       "      <th>1600</th>\n",
       "      <th>1850</th>\n",
       "      <th>2100</th>\n",
       "      <th>2350</th>\n",
       "      <th>2600</th>\n",
       "      <th>2850</th>\n",
       "      <th>3100</th>\n",
       "      <th>3350</th>\n",
       "      <th>3600</th>\n",
       "      <th>3850</th>\n",
       "      <th>4100</th>\n",
       "      <th>4350</th>\n",
       "    </tr>\n",
       "  </thead>\n",
       "  <tbody>\n",
       "    <tr>\n",
       "      <th>0</th>\n",
       "      <td>0.861808</td>\n",
       "      <td>0.818866</td>\n",
       "      <td>0.868783</td>\n",
       "      <td>0.893895</td>\n",
       "      <td>0.884890</td>\n",
       "      <td>0.900338</td>\n",
       "      <td>0.888037</td>\n",
       "      <td>0.906943</td>\n",
       "      <td>0.895242</td>\n",
       "      <td>0.896490</td>\n",
       "      <td>0.888556</td>\n",
       "      <td>0.897773</td>\n",
       "      <td>0.908728</td>\n",
       "      <td>0.906475</td>\n",
       "      <td>0.912088</td>\n",
       "      <td>0.918775</td>\n",
       "      <td>0.940120</td>\n",
       "      <td>0.932271</td>\n",
       "    </tr>\n",
       "    <tr>\n",
       "      <th>1</th>\n",
       "      <td>0.800489</td>\n",
       "      <td>0.888262</td>\n",
       "      <td>0.879780</td>\n",
       "      <td>0.882698</td>\n",
       "      <td>0.897744</td>\n",
       "      <td>0.884343</td>\n",
       "      <td>0.886371</td>\n",
       "      <td>0.888041</td>\n",
       "      <td>0.904838</td>\n",
       "      <td>0.900489</td>\n",
       "      <td>0.900050</td>\n",
       "      <td>0.917190</td>\n",
       "      <td>0.918721</td>\n",
       "      <td>0.905675</td>\n",
       "      <td>0.926074</td>\n",
       "      <td>0.902796</td>\n",
       "      <td>0.904192</td>\n",
       "      <td>0.932271</td>\n",
       "    </tr>\n",
       "    <tr>\n",
       "      <th>2</th>\n",
       "      <td>0.819818</td>\n",
       "      <td>0.884027</td>\n",
       "      <td>0.869533</td>\n",
       "      <td>0.870968</td>\n",
       "      <td>0.890603</td>\n",
       "      <td>0.893571</td>\n",
       "      <td>0.888704</td>\n",
       "      <td>0.897492</td>\n",
       "      <td>0.901639</td>\n",
       "      <td>0.901377</td>\n",
       "      <td>0.892054</td>\n",
       "      <td>0.901199</td>\n",
       "      <td>0.916056</td>\n",
       "      <td>0.908074</td>\n",
       "      <td>0.921079</td>\n",
       "      <td>0.917443</td>\n",
       "      <td>0.906188</td>\n",
       "      <td>0.924303</td>\n",
       "    </tr>\n",
       "    <tr>\n",
       "      <th>3</th>\n",
       "      <td>0.830260</td>\n",
       "      <td>0.846860</td>\n",
       "      <td>0.861285</td>\n",
       "      <td>0.897094</td>\n",
       "      <td>0.886033</td>\n",
       "      <td>0.871424</td>\n",
       "      <td>0.883705</td>\n",
       "      <td>0.896401</td>\n",
       "      <td>0.911635</td>\n",
       "      <td>0.899156</td>\n",
       "      <td>0.893053</td>\n",
       "      <td>0.910337</td>\n",
       "      <td>0.927382</td>\n",
       "      <td>0.925659</td>\n",
       "      <td>0.925075</td>\n",
       "      <td>0.929427</td>\n",
       "      <td>0.918164</td>\n",
       "      <td>0.880478</td>\n",
       "    </tr>\n",
       "    <tr>\n",
       "      <th>4</th>\n",
       "      <td>0.871584</td>\n",
       "      <td>0.870619</td>\n",
       "      <td>0.863034</td>\n",
       "      <td>0.883231</td>\n",
       "      <td>0.869466</td>\n",
       "      <td>0.880652</td>\n",
       "      <td>0.894702</td>\n",
       "      <td>0.901490</td>\n",
       "      <td>0.906837</td>\n",
       "      <td>0.902710</td>\n",
       "      <td>0.903048</td>\n",
       "      <td>0.896059</td>\n",
       "      <td>0.911392</td>\n",
       "      <td>0.901679</td>\n",
       "      <td>0.912088</td>\n",
       "      <td>0.913449</td>\n",
       "      <td>0.918164</td>\n",
       "      <td>0.932271</td>\n",
       "    </tr>\n",
       "  </tbody>\n",
       "</table>\n",
       "</div>"
      ],
      "text/plain": [
       "       100       350       600       850       1100      1350      1600  \\\n",
       "0  0.861808  0.818866  0.868783  0.893895  0.884890  0.900338  0.888037   \n",
       "1  0.800489  0.888262  0.879780  0.882698  0.897744  0.884343  0.886371   \n",
       "2  0.819818  0.884027  0.869533  0.870968  0.890603  0.893571  0.888704   \n",
       "3  0.830260  0.846860  0.861285  0.897094  0.886033  0.871424  0.883705   \n",
       "4  0.871584  0.870619  0.863034  0.883231  0.869466  0.880652  0.894702   \n",
       "\n",
       "       1850      2100      2350      2600      2850      3100      3350  \\\n",
       "0  0.906943  0.895242  0.896490  0.888556  0.897773  0.908728  0.906475   \n",
       "1  0.888041  0.904838  0.900489  0.900050  0.917190  0.918721  0.905675   \n",
       "2  0.897492  0.901639  0.901377  0.892054  0.901199  0.916056  0.908074   \n",
       "3  0.896401  0.911635  0.899156  0.893053  0.910337  0.927382  0.925659   \n",
       "4  0.901490  0.906837  0.902710  0.903048  0.896059  0.911392  0.901679   \n",
       "\n",
       "       3600      3850      4100      4350  \n",
       "0  0.912088  0.918775  0.940120  0.932271  \n",
       "1  0.926074  0.902796  0.904192  0.932271  \n",
       "2  0.921079  0.917443  0.906188  0.924303  \n",
       "3  0.925075  0.929427  0.918164  0.880478  \n",
       "4  0.912088  0.913449  0.918164  0.932271  "
      ]
     },
     "execution_count": 71,
     "metadata": {},
     "output_type": "execute_result"
    }
   ],
   "source": [
    "acc_table.columns = boot\n",
    "acc_table.head(5)"
   ]
  },
  {
   "cell_type": "code",
   "execution_count": 72,
   "metadata": {
    "collapsed": false
   },
   "outputs": [
    {
     "data": {
      "text/plain": [
       "[<matplotlib.lines.Line2D at 0xaf66940>]"
      ]
     },
     "execution_count": 72,
     "metadata": {},
     "output_type": "execute_result"
    },
    {
     "data": {
      "image/png": "[encoded data removed]",
      "text/plain": [
       "<matplotlib.figure.Figure at 0xaced0b8>"
      ]
     },
     "metadata": {},
     "output_type": "display_data"
    }
   ],
   "source": [
    "plt.plot( boot,acc_table.std(0))\n",
    "#plt.plot( boot,acc_table.mean(0))"
   ]
  },
  {
   "cell_type": "markdown",
   "metadata": {},
   "source": [
    "20. Однократное разбиение выборки на train и test не является достаточно хорошим методом с точки зрения оценки качества моделей. На практике используется многократное разбиение или т.н. Перекрестная Проверка (Cross Validation). Получите оценки качества для дерева и KNN, используя Cross Validation. *Существует несколько типов Cross Validation. Выберите один и обоснуйте свой выбор.*\n",
    "\n",
    "Я выбрал 10-fold CV. Почему этот метод:\n",
    "\n",
    "1. Это относительно быстро, в отличие от более затратного leave-one-out, и тем более leave-p-out \n",
    "2. Мы включаем в рассмотрение все имеющиеся данные, в отличие от split&shuffle"
   ]
  },
  {
   "cell_type": "code",
   "execution_count": 63,
   "metadata": {
    "collapsed": false
   },
   "outputs": [
    {
     "data": {
      "text/plain": [
       "0.90063298667680891"
      ]
     },
     "execution_count": 63,
     "metadata": {},
     "output_type": "execute_result"
    }
   ],
   "source": [
    "cv_rez = cv.cross_val_score(DecisionTreeClassifier(),X,Y, scoring='accuracy', cv=10)\n",
    "cv_rez.mean()\n",
    "#accuracy score after 10-fold cv"
   ]
  },
  {
   "cell_type": "code",
   "execution_count": 61,
   "metadata": {
    "collapsed": false
   },
   "outputs": [
    {
     "data": {
      "text/plain": [
       "0.78830235389868908"
      ]
     },
     "execution_count": 61,
     "metadata": {},
     "output_type": "execute_result"
    }
   ],
   "source": [
    "cv_knn_rez = cv.cross_val_score(neighbors.KNeighborsClassifier(),X,Y, scoring='accuracy', cv=10)\n",
    "\n",
    "cv_knn_rez.mean()\n",
    "#accuracy score after 10-fold cv"
   ]
  },
  {
   "cell_type": "markdown",
   "metadata": {},
   "source": [
    "* Для моделей, обученных в предыдущей части постройте ROC и посчтатйте метрику ROC AUC.\n"
   ]
  },
  {
   "cell_type": "code",
   "execution_count": 64,
   "metadata": {
    "collapsed": false
   },
   "outputs": [
    {
     "data": {
      "text/plain": [
       "0.90130524350597097"
      ]
     },
     "execution_count": 64,
     "metadata": {},
     "output_type": "execute_result"
    }
   ],
   "source": [
    "\n",
    "YPred_clf2 = clf2.predict(Xtest)\n",
    "\n",
    "fpr, tpr, thresholds = metrics.roc_curve(Ytest,Ypred_test_clf2)\n",
    "\n",
    "metrics.roc_auc_score(Ytest,Ypred_test_clf2)"
   ]
  },
  {
   "cell_type": "code",
   "execution_count": 65,
   "metadata": {
    "collapsed": false
   },
   "outputs": [
    {
     "name": "stdout",
     "output_type": "stream",
     "text": [
      "[ 0.          0.09148936  1.        ] [ 0.          0.89409985  1.        ] [2 1 0]\n"
     ]
    }
   ],
   "source": [
    "print(fpr,tpr,thresholds)"
   ]
  },
  {
   "cell_type": "code",
   "execution_count": 66,
   "metadata": {
    "collapsed": false
   },
   "outputs": [
    {
     "data": {
      "text/plain": [
       "0.77312341069301838"
      ]
     },
     "execution_count": 66,
     "metadata": {},
     "output_type": "execute_result"
    }
   ],
   "source": [
    "Ypred_knn = knn.predict(Xtest)\n",
    "\n",
    "fpr, tpr, thresholds = metrics.roc_curve(Ytest,Ypred_knn)\n",
    "\n",
    "metrics.roc_auc_score(Ytest,Ypred_knn)"
   ]
  },
  {
   "cell_type": "code",
   "execution_count": 67,
   "metadata": {
    "collapsed": false
   },
   "outputs": [
    {
     "name": "stdout",
     "output_type": "stream",
     "text": [
      "[ 0.          0.14361702  1.        ] [ 0.          0.68986384  1.        ] [2 1 0]\n"
     ]
    }
   ],
   "source": [
    "print(fpr,tpr,thresholds)"
   ]
  },
  {
   "cell_type": "markdown",
   "metadata": {},
   "source": [
    "* Верно ли, что классификаторы из предыдущей части действуют путем сравнения некоторой оценки принадлежности положительному классу с некоторым порогом?\n",
    "\n",
    "И дерево и KNN дает оценку принадлежности к классу. Пересечение некого порога определеяет, относится ли объект к одному или к другому классу.\n",
    "\n",
    "* Какой классификатор имеет ROC AUC близкий к 0? \n",
    "\n",
    "Это должен быть инвертированный ROC AUC близкий к 1, т.е. когда мы переобозвали \"положительный\" и \"отрицательный\" классы. В этом смысле это такой же идеальный классификатор, как и со значением ROC AUC близкому к 1.\n"
   ]
  },
  {
   "cell_type": "markdown",
   "metadata": {},
   "source": [
    "На данный момент параметры алгоритмов KNN и Decision Tree выбраны наугад. Для одбора параметров используется т.н. Gree Search (sklearn имеет соответствующий модуль).\n",
    " * Найдите оптимальный набор параметров дерева, перебрав значения параметров по сетке. Параметры для настройки: критерий разбиения, максимальная глубина, число признаков для каждого узла, минимальное число объектов в листе.\n",
    " \n",
    " * Найдите оптимальный набор параметров для KNN, перебрав значения параметров по сетке. Параметры для настройки: число соседей, функция расстояния, схема взвешивания."
   ]
  },
  {
   "cell_type": "code",
   "execution_count": 76,
   "metadata": {
    "collapsed": false
   },
   "outputs": [
    {
     "data": {
      "text/plain": [
       "{'criterion': ['Gini', 'entropy'],\n",
       " 'max_depth': range(1, 50),\n",
       " 'max_features': range(1, 57),\n",
       " 'min_sample_leaf': range(1, 100, 5)}"
      ]
     },
     "execution_count": 76,
     "metadata": {},
     "output_type": "execute_result"
    }
   ],
   "source": [
    "crit = list(['Gini', 'entropy'])\n",
    "max_feat = range(1,57)\n",
    "max_dep = range(1,50)\n",
    "min_samp = range(1,100,5)\n",
    "\n",
    "param_grid = dict(criterion=crit, max_features=max_feat, max_depth = max_dep, min_sample_leaf=min_samp)\n",
    "param_grid\n",
    "#grid_search.GridSearchCV(clf, param_grid, cv=10, scoring = 'accuracy')"
   ]
  }
 ],
 "metadata": {
  "kernelspec": {
   "display_name": "Python 3",
   "language": "python",
   "name": "python3"
  },
  "language_info": {
   "codemirror_mode": {
    "name": "ipython",
    "version": 3
   },
   "file_extension": ".py",
   "mimetype": "text/x-python",
   "name": "python",
   "nbconvert_exporter": "python",
   "pygments_lexer": "ipython3",
   "version": "3.5.1"
  }
 },
 "nbformat": 4,
 "nbformat_minor": 0
}
